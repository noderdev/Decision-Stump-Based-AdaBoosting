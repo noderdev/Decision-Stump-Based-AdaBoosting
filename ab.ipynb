{
 "cells": [
  {
   "cell_type": "code",
   "execution_count": 64,
   "id": "70e15b06",
   "metadata": {},
   "outputs": [],
   "source": [
    "import pandas as pd\n",
    "import numpy as np\n",
    "import math\n",
    "import time\n",
    "from sklearn.ensemble import AdaBoostClassifier\n",
    "import matplotlib.pyplot as plt\n",
    "from sklearn.tree import DecisionTreeClassifier\n",
    "import copy\n",
    "\n",
    "data = open(\"Train.txt\").read()"
   ]
  },
  {
   "cell_type": "code",
   "execution_count": 2,
   "id": "7fa2913f",
   "metadata": {},
   "outputs": [],
   "source": [
    "lines_of_data = data.splitlines()\n",
    "df = pd.DataFrame([sub.split(\",\") for sub in lines_of_data])"
   ]
  },
  {
   "cell_type": "code",
   "execution_count": 3,
   "id": "d09c3d95",
   "metadata": {},
   "outputs": [],
   "source": [
    "def divide_data(data):\n",
    "    Y = data.iloc[:, 0].to_numpy(dtype = int)\n",
    "    X = data.iloc[:, 1:].to_numpy(dtype = float)\n",
    "    \n",
    "    return X , Y"
   ]
  },
  {
   "cell_type": "code",
   "execution_count": 4,
   "id": "3bda3f8d",
   "metadata": {},
   "outputs": [],
   "source": [
    "def gini_index(sections,labels):\n",
    "    total_size = float(sum([len(section) for section in sections]))\n",
    "    gini = 0\n",
    "    \n",
    "    for section in sections:\n",
    "        \n",
    "        section_size = len(section)\n",
    "        if section_size == 0:\n",
    "            continue\n",
    "            \n",
    "        score = 0\n",
    "        for label in labels:\n",
    "            p = (section.count(label)/section_size)\n",
    "            score += p*p\n",
    "        \n",
    "        gini += (1-score)*(section_size/total_size)\n",
    "    \n",
    "    return gini"
   ]
  },
  {
   "cell_type": "code",
   "execution_count": 5,
   "id": "3f7bb7c3",
   "metadata": {},
   "outputs": [],
   "source": [
    "def split(X,Y,feature,value):\n",
    "    left = []\n",
    "    right= []\n",
    "    \n",
    "    i =0\n",
    "    for row in X:\n",
    "        if row[feature] <= value:\n",
    "            left.append(Y[i])\n",
    "        else:\n",
    "            right.append(Y[i])\n",
    "        i+=1\n",
    "            \n",
    "    return left , right"
   ]
  },
  {
   "cell_type": "code",
   "execution_count": 6,
   "id": "d85f8ac3",
   "metadata": {},
   "outputs": [],
   "source": [
    "class Classifier:\n",
    "    def __init__(self, f_val,f_index,l_label,r_label):\n",
    "        self.feature_value = f_val\n",
    "        self.feature_index = f_index\n",
    "        self.left_label = l_label\n",
    "        self.right_label = r_label\n",
    "        self.alpha = 0\n",
    "        "
   ]
  },
  {
   "cell_type": "code",
   "execution_count": 7,
   "id": "b0314e9f",
   "metadata": {},
   "outputs": [],
   "source": [
    "def get_label(y,label):\n",
    "    label_count = -math.inf\n",
    "    final_label = math.inf\n",
    "    \n",
    "    for l in label:\n",
    "        if label_count < y.count(l):\n",
    "            label_count = y.count(l)\n",
    "            final_label = l\n",
    "    \n",
    "    return final_label"
   ]
  },
  {
   "cell_type": "code",
   "execution_count": 8,
   "id": "765cfbdf",
   "metadata": {},
   "outputs": [],
   "source": [
    "def best_split(X,Y):\n",
    "    feature_val = 0\n",
    "    feature_index = 0\n",
    "    best_gini = math.inf\n",
    "    labels = [3,5]\n",
    "    left_label = 0\n",
    "    right_label = 0\n",
    "    \n",
    "    for feature in range(len(X[0])):\n",
    "        s = set()\n",
    "        for row in X:\n",
    "            \n",
    "            if row[feature] not in s:\n",
    "                s.add(row[feature])\n",
    "                \n",
    "                left_set , right_set = split(X,Y,feature,row[feature])\n",
    "\n",
    "                if len(left_set) == 0 or len(right_set)==0:\n",
    "                    continue\n",
    "\n",
    "                current_gini = gini_index([left_set,right_set],labels)\n",
    "\n",
    "                if current_gini < best_gini:\n",
    "                    feature_val = row[feature]\n",
    "                    feature_index = feature\n",
    "                    best_gini = current_gini\n",
    "                    left_label = get_label(left_set,labels)\n",
    "                    right_label= get_label(right_set,labels)\n",
    "    \n",
    "    return Classifier(feature_val,feature_index,left_label,right_label)"
   ]
  },
  {
   "cell_type": "code",
   "execution_count": 9,
   "id": "ee386439",
   "metadata": {},
   "outputs": [],
   "source": [
    "def predict(c,data):\n",
    "    prediction = []\n",
    "    \n",
    "    for row in data:\n",
    "        if row[c.feature_index] <= c.feature_value:\n",
    "            prediction.append(c.left_label)\n",
    "        else:\n",
    "            prediction.append(c.right_label)\n",
    "    \n",
    "    return prediction"
   ]
  },
  {
   "cell_type": "code",
   "execution_count": 10,
   "id": "c4b9c390",
   "metadata": {},
   "outputs": [],
   "source": [
    "def find_error(Y,Y_pred,w):\n",
    "    \n",
    "    return (sum(w * (np.not_equal(Y, Y_pred)).astype(int)))/sum(w)"
   ]
  },
  {
   "cell_type": "code",
   "execution_count": 11,
   "id": "b77b0d43",
   "metadata": {},
   "outputs": [],
   "source": [
    "def update_weights(alpha,Y,Y_pred,w):\n",
    "    \n",
    "    counter =0\n",
    "    \n",
    "    for i in range(0,len(w)):\n",
    "        if Y[i]==Y_pred[i]:\n",
    "            w[i] = w[i] * np.exp(-1*alpha)\n",
    "        else:\n",
    "            w[i] = w[i] * np.exp(1*alpha)\n",
    "        \n",
    "        counter+=1\n",
    "    \n",
    "    \n",
    "    return w/np.sum(w)"
   ]
  },
  {
   "cell_type": "code",
   "execution_count": 12,
   "id": "e3b22730",
   "metadata": {},
   "outputs": [],
   "source": [
    "def ada_boost(X_train,Y_train,rounds):\n",
    "    \n",
    "    N = len(Y_train)\n",
    "    \n",
    "    w = np.ones(N)/N\n",
    "    \n",
    "    classifiers = []\n",
    "    \n",
    "    for k in range(rounds):\n",
    "        \n",
    "        sample =  df.sample(n=df.shape[0],axis = 0,replace=True,weights=w)\n",
    "\n",
    "        X,Y = divide_data(sample)\n",
    "    \n",
    "        c = best_split(X,Y)\n",
    "    \n",
    "        Y_pred = predict(c,X_train)\n",
    "        \n",
    "        err = find_error(Y_train,Y_pred,w)\n",
    "        \n",
    "        if err > 0.5:\n",
    "            w = np.ones(N)/ N\n",
    "            continue\n",
    "\n",
    "        alpha = 0.5*(np.log((1 - err)/err))\n",
    "        \n",
    "        c.alpha = alpha\n",
    "        \n",
    "        classifiers.append(c)\n",
    "        \n",
    "        w = update_weights(alpha,Y_train,Y_pred,w)\n",
    "        \n",
    "    return classifiers"
   ]
  },
  {
   "cell_type": "code",
   "execution_count": 14,
   "id": "9b94c26f",
   "metadata": {},
   "outputs": [],
   "source": [
    "def final_prediction(classifiers,X):\n",
    "    y_pred = []\n",
    "    \n",
    "    for row in X:\n",
    "        final_class = 0\n",
    "        \n",
    "        for c in classifiers:\n",
    "            if row[c.feature_index] <= c.feature_value:\n",
    "                if c.left_label == 3:\n",
    "                    final_class -= c.alpha\n",
    "                elif c.left_label == 5:\n",
    "                    final_class += c.alpha\n",
    "            else:\n",
    "                if c.right_label == 3:\n",
    "                    final_class -= c.alpha\n",
    "                elif c.right_label == 5:\n",
    "                    final_class += c.alpha\n",
    "        \n",
    "        if final_class < 0:\n",
    "            y_pred.append(3)\n",
    "        else:\n",
    "            y_pred.append(5)\n",
    "    \n",
    "    return y_pred\n",
    "    "
   ]
  },
  {
   "cell_type": "code",
   "execution_count": 15,
   "id": "c6213d3f",
   "metadata": {},
   "outputs": [],
   "source": [
    "def compute_accuracy(y, y_pred):\n",
    "    total = 0 \n",
    "    for i in range(len(y)):\n",
    "        if y[i] == y_pred[i]:\n",
    "            total = total + 1\n",
    "    \n",
    "    accuracy = (total/len(y))\n",
    "    return accuracy"
   ]
  },
  {
   "cell_type": "code",
   "execution_count": 16,
   "id": "0c400288",
   "metadata": {},
   "outputs": [
    {
     "name": "stdout",
     "output_type": "stream",
     "text": [
      "1.0\n",
      "1.0\n",
      "1.0\n",
      "1.0\n",
      "1.0\n",
      "1.0\n",
      "1.0\n",
      "1.0\n",
      "1.0\n",
      "1.0\n",
      "1.0\n",
      "1.0\n",
      "1.0\n",
      "1.0\n",
      "1.0\n"
     ]
    },
    {
     "data": {
      "image/png": "[encoded data removed]",
      "text/plain": [
       "<Figure size 640x480 with 1 Axes>"
      ]
     },
     "metadata": {},
     "output_type": "display_data"
    }
   ],
   "source": [
    "X_train,Y_train = divide_data(df)\n",
    "\n",
    "rounds= [10,20,30,40,50,60,70,80,90,100,110,120,130,140,150,160,170,180,190,200]\n",
    "accuracies = []\n",
    "\n",
    "ensembles_classifiers = {}\n",
    "\n",
    "for i in range(len(rounds)):\n",
    "    classifiers = ada_boost(X_train,Y_train,rounds[i])\n",
    "    ensembles_classifiers[rounds[i]] = classifiers\n",
    "    y_pred2 = final_prediction(classifiers,X_train)\n",
    "    accuracies.append(1-compute_accuracy(Y_train,y_pred2))\n",
    "    \n",
    "plt.plot(accuracies)\n",
    "plt.xlabel('Rounds')\n",
    "plt.ylabel('Accuracy')\n",
    "plt.show()\n",
    "\n",
    "#Please ignore the 1.0 being printed. It was for debugging purposes."
   ]
  },
  {
   "cell_type": "code",
   "execution_count": 27,
   "id": "f4e5863a",
   "metadata": {},
   "outputs": [],
   "source": [
    "test_data = open(\"Test.txt\").read()\n",
    "\n",
    "lines_of_data = test_data.splitlines()\n",
    "df_test = pd.DataFrame([sub.split(\",\") for sub in lines_of_data])\n",
    "\n",
    "X_test = df_test.to_numpy(dtype = float)\n",
    "test_accuracies = []"
   ]
  },
  {
   "cell_type": "code",
   "execution_count": 30,
   "id": "aea3cdc3",
   "metadata": {},
   "outputs": [],
   "source": [
    "for r in rounds:\n",
    "    \n",
    "    y_pred2 = final_prediction(ensembles_classifiers[r],X_test)\n",
    "    \n",
    "    fl = open(\"Pred\"+ str(r) + \".csv\",\"w\")\n",
    "    \n",
    "    for p in y_pred2:\n",
    "        fl.write(str(p))\n",
    "        fl.write(\"\\n\")\n",
    "        "
   ]
  },
  {
   "cell_type": "code",
   "execution_count": 40,
   "id": "86b67732",
   "metadata": {},
   "outputs": [
    {
     "name": "stdout",
     "output_type": "stream",
     "text": [
      "1.0\n",
      "1.0\n",
      "1.0\n",
      "1.0\n",
      "1.0\n"
     ]
    }
   ],
   "source": [
    "ensembles_classifiers[110] = ada_boost(X_train,Y_train,110)\n",
    "ensembles_classifiers[130] = ada_boost(X_train,Y_train,130)\n",
    "ensembles_classifiers[150] = ada_boost(X_train,Y_train,150)\n",
    "ensembles_classifiers[170] = ada_boost(X_train,Y_train,170)\n",
    "ensembles_classifiers[190] = ada_boost(X_train,Y_train,190)"
   ]
  },
  {
   "cell_type": "code",
   "execution_count": null,
   "id": "fb1f3526",
   "metadata": {},
   "outputs": [],
   "source": [
    "decision_clf = DecisionTreeClassifier()\n",
    "decision_clf.fit(X_train,Y_train)\n",
    "y_pred2 = decision_clf.predict(X_test).astype(int)\n",
    "\n",
    "fl = open(\"Decision_Tree_Lib.csv\",\"w\")\n",
    "\n",
    "for p in y_pred2:\n",
    "    fl.write(str(p))\n",
    "    fl.write(\"\\n\")"
   ]
  },
  {
   "cell_type": "code",
   "execution_count": 69,
   "id": "9f86e917",
   "metadata": {},
   "outputs": [
    {
     "data": {
      "image/png": "[encoded data removed]",
      "text/plain": [
       "<Figure size 640x480 with 1 Axes>"
      ]
     },
     "metadata": {},
     "output_type": "display_data"
    }
   ],
   "source": [
    "training_errors = []\n",
    "rounds= [10,20,30,40,50,60,70,80,90,100,110,120,130,140,150,160,170,180,190,200]\n",
    "\n",
    "for i in range(len(rounds)):\n",
    "    y_pred2 = final_prediction(ensembles_classifiers[rounds[i]],X_train)\n",
    "    training_errors.append((1-compute_accuracy(Y_train,y_pred2))*100)\n",
    "    \n",
    "## Test error from miner in the sequence of ada boost rounds\n",
    "total_error = [11,8,7,6,6,8,8,7,7,7,6,7,8,8,6,6,9,7,5,7]\n",
    "\n",
    "# Test error for single decison tree from miner.\n",
    "decision_tree_error = 9\n",
    "\n",
    "plt.plot(rounds,training_errors,label = 'Train Error')\n",
    "plt.plot(rounds,total_error, label = \"Test Error\")\n",
    "plt.axhline(y=decision_tree_error, color='r', linestyle='-', label = 'Decision Tree Test Error')\n",
    "plt.xlabel('Rounds')\n",
    "plt.ylabel('Error')\n",
    "plt.legend(loc='best')\n",
    "plt.show()"
   ]
  },
  {
   "cell_type": "code",
   "execution_count": null,
   "id": "e8fbbd4d",
   "metadata": {},
   "outputs": [],
   "source": []
  }
 ],
 "metadata": {
  "kernelspec": {
   "display_name": "Python 3 (ipykernel)",
   "language": "python",
   "name": "python3"
  },
  "language_info": {
   "codemirror_mode": {
    "name": "ipython",
    "version": 3
   },
   "file_extension": ".py",
   "mimetype": "text/x-python",
   "name": "python",
   "nbconvert_exporter": "python",
   "pygments_lexer": "ipython3",
   "version": "3.10.6"
  }
 },
 "nbformat": 4,
 "nbformat_minor": 5
}
